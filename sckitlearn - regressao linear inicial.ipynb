{
 "cells": [
  {
   "cell_type": "markdown",
   "metadata": {},
   "source": [
    "# Machine Learning - Parte I - Regressão Linear"
   ]
  },
  {
   "cell_type": "markdown",
   "metadata": {},
   "source": [
    "Vamos começar a falar sobre os algoritmos de machine learning, começando por um de regressão. <br>\n",
    "Regressão linear é um algoritmo largamente utilizado, tendo já completado dois séculos de existência desde que sua primeira forma de utilização foi publicada no começo do século XIX."
   ]
  },
  {
   "cell_type": "markdown",
   "metadata": {},
   "source": [
    "Apesar de não ser o que conduz ao melhor modelo, daremos os primeiros passos para entender:\n",
    "\n",
    "* métricas de desempenho de modelos, ou seja como comparar modelos\n",
    "* estratégias de validação: separação entre treino e teste\n",
    "\n",
    "\n",
    "Além disso, introduziremos uma notação comum a todos os algoritmos da seguinte maneira:\n",
    "\n",
    "* $X$ : matriz de features\n",
    "* $y$ : vetor com os objetivos da predição\n"
   ]
  },
  {
   "cell_type": "markdown",
   "metadata": {},
   "source": [
    "# Regressão"
   ]
  },
  {
   "cell_type": "markdown",
   "metadata": {},
   "source": [
    "<div class=\"span5 alert alert-info\">\n",
    "\n",
    "<p> Fornecidos $x$ and $y$, o objetivo da regressão linear é: </p>\n",
    "<ul>\n",
    "  <li> Criar um <b>modelo preditivo</b> para predizer o $y$ a partir de $x_i$</li>\n",
    "  <li> Modelar a <b>importancia</b> entre cada variável dependente $x_i$ e $y$</li>\n",
    "    <ul>\n",
    "      <li> Nem todos os $x_i$ tem relação com $y$</li>\n",
    "      <li> Quais $x_i$ que mais contribuem para determinar $y$? </li>\n",
    "    </ul>\n",
    "</ul>\n",
    "</div>\n",
    "\n",
    "\n",
    "\n",
    "### recap\n",
    "***\n",
    "\n",
    "[Regressão Linear](http://en.wikipedia.org/wiki/Linear_regression) é um metodo para modelar a relação entre um conjunto de variaveis independentes $x$ (explanatórias, features, preditores) e uma variável dependente $Y$.  Esse metodo assume que $x$ tem uma relação linear com $y$.  \n",
    "\n",
    "$$ y = \\beta_0 + \\beta_1 x + \\epsilon$$\n",
    "\n",
    "one $\\epsilon$ refere-se a um erro. \n",
    "\n",
    "* $\\beta_0$ é a intercepto do modelo\n",
    "\n",
    "* O objetivo será estimar os coeficientes (e.g. $\\beta_0$ and $\\beta_1$). Representamos as estimativas com o \"chapeu\" em cima da letra. \n",
    "\n",
    "$$ \\hat{\\beta}_0, \\hat{\\beta}_1 $$\n",
    "\n",
    "* Uma vez obtido a estimativa dos coeficientes $\\hat{\\beta}_0$ and $\\hat{\\beta}_1$, podemos usar para predizer novos valores de $Y$\n",
    "\n",
    "$$\\hat{y} = \\hat{\\beta}_0 + \\hat{\\beta}_1 x_1$$\n",
    "\n",
    "* Regressão Linear Multipla é quando há mais de uma variavel independente\n",
    "    * $x_1$, $x_2$, $x_3$, $\\ldots$\n",
    "\n",
    "$$ y = \\beta_0 + \\beta_1 x_1 + \\ldots + \\beta_p x_p + \\epsilon$$ "
   ]
  },
  {
   "cell_type": "code",
   "execution_count": 1,
   "metadata": {},
   "outputs": [],
   "source": [
    "import numpy as np\n",
    "import pandas as pd"
   ]
  },
  {
   "cell_type": "code",
   "execution_count": 5,
   "metadata": {},
   "outputs": [],
   "source": [
    "import matplotlib.pyplot as plt\n",
    "import seaborn as sns\n",
    "sns.set_style('whitegrid')\n",
    "%matplotlib inline"
   ]
  },
  {
   "cell_type": "code",
   "execution_count": null,
   "metadata": {},
   "outputs": [],
   "source": []
  },
  {
   "cell_type": "code",
   "execution_count": null,
   "metadata": {},
   "outputs": [],
   "source": []
  },
  {
   "cell_type": "markdown",
   "metadata": {},
   "source": [
    "#### Como encontrar os \"melhores\" $a$ e $b$?\n",
    "\n",
    "**Metodo dos minimos quadrados (least squares method)**\n"
   ]
  },
  {
   "cell_type": "code",
   "execution_count": 27,
   "metadata": {},
   "outputs": [
    {
     "data": {
      "image/png": "[encoded data removed]",
      "text/plain": [
       "<IPython.core.display.Image object>"
      ]
     },
     "execution_count": 27,
     "metadata": {},
     "output_type": "execute_result"
    }
   ],
   "source": [
    "from IPython.display import Image\n",
    "url = 'http://upload.wikimedia.org/wikipedia/commons/thumb/b/b0/Linear_least_squares_example2.svg/220px-Linear_least_squares_example2.svg.png'\n",
    "Image(url)"
   ]
  },
  {
   "cell_type": "markdown",
   "metadata": {},
   "source": [
    "Pergunta: qual a melhor linha azul que representa o conjunto de pontos vermelhos? <br>\n",
    "Resposta: a que minimiza a soma dos quadrados das linhas verdes (o erro)"
   ]
  },
  {
   "cell_type": "markdown",
   "metadata": {},
   "source": [
    "\\begin{equation*}\n",
    "MSE\\quad = \\frac { 1 }{ n } \\sum _{ i=0 }^{ n-1 }{ { { (\\hat { { y }^{ (i) } }  } }-{ y }^{ (i) })^{ 2 } }   \\quad \n",
    "\\end{equation*}"
   ]
  },
  {
   "cell_type": "markdown",
   "metadata": {},
   "source": [
    "\\begin{equation*}\n",
    "RMSE\\quad = \\sqrt { \\frac { 1 }{ n } \\sum _{ i\\quad =\\quad 0 }^{ n-1 }{ { { (\\hat { { y }^{ (i) } }  } }-{ y }^{ (i) })^{ 2 } }   } \\quad  \n",
    "\\end{equation*}"
   ]
  },
  {
   "cell_type": "markdown",
   "metadata": {},
   "source": [
    "#### agora com multiplas variáveis"
   ]
  },
  {
   "cell_type": "markdown",
   "metadata": {},
   "source": [
    "Notação:\n",
    "\n",
    "$x^{(0)}_{CRIM} = 0.00632$\n",
    "\n",
    "$x^{(0)}_{ZN} = 18.00000$\n",
    "\n",
    "$x^{(0)}_{LSTAT} = 4.98$\n",
    "\n",
    "$y^{(0)} = 24$"
   ]
  },
  {
   "cell_type": "markdown",
   "metadata": {},
   "source": [
    "A principal \"jogada\" da regressão linear é considerar que cada feature contribui linearmente na composição do preço:\n",
    "\n",
    "$\\hat{y^{(i)}} = a_{CRIM}.x^{(i)}_{CRIM} + a_{ZN}.x^{(i)}_{ZN} + ... + a_{LSTAT}.x^{(i)}_{LSTAT} + b$, <br>\n",
    "\n",
    "para $i = 0, 1, 2,..., n-1$ \n",
    "\n",
    "e o objetivo será encontrar $a_{CRIM}, a_{ZN}, ...,a_{LSTAT}, b$ que minimizam o erro \n",
    "\n",
    "Numa forma matricial, podemos re-escrever o problema da seguinte maneira:\n",
    "\n",
    "\n",
    "\\begin{equation*}\n",
    "\\mathbf{X}.\\mathbf{a} = \\hat{\\mathbf{y}}\n",
    "\\end{equation*}\n",
    "\n",
    "<br>\n",
    "\n",
    "\n",
    "\\begin{equation*}\n",
    "\\mathbf{X} =  \\begin{bmatrix}\n",
    "x^{(0)}_{CRIM} & x^{(0)}_{ZN} & ... & x^{(0)}_{LSTAT} & 1 \\\\\n",
    "x^{(1)}_{CRIM} & x^{(1)}_{ZN} & ... & x^{(1)}_{LSTAT} & 1 \\\\\n",
    "... & ... & ... & ...\\\\\n",
    "x^{(n-1)}_{CRIM} & x^{(n-1)}_{ZN} & ... & x^{(n-1)}_{LSTAT} & 1 \\\\\n",
    "\\end{bmatrix}\n",
    "\\end{equation*}\n",
    "\n",
    "<br>\n",
    "\n",
    "\\begin{equation*}\n",
    "\\mathbf{a} =  \\begin{bmatrix}\n",
    "a_{CRIM} \\\\\n",
    "a_{ZN} \\\\\n",
    "... \\\\\n",
    "a_{LSTAT}\\\\\n",
    "b \\\\\n",
    "\\end{bmatrix}\n",
    "\\end{equation*}\n",
    "\n",
    "<br>\n",
    "\n",
    "\\begin{equation*}\n",
    "\\mathbf{y} =  \\begin{bmatrix}\n",
    "\\hat{y^{(0)}} \\\\\n",
    "\\hat{y^{(1)}} \\\\\n",
    "... \\\\\n",
    "\\hat{y^{(n-1)}}\\\\\n",
    "\\end{bmatrix}\n",
    "\\end{equation*}"
   ]
  },
  {
   "cell_type": "code",
   "execution_count": null,
   "metadata": {},
   "outputs": [],
   "source": []
  },
  {
   "cell_type": "markdown",
   "metadata": {},
   "source": [
    "### Com todas as features - com sklearn"
   ]
  },
  {
   "cell_type": "code",
   "execution_count": null,
   "metadata": {},
   "outputs": [],
   "source": []
  },
  {
   "cell_type": "markdown",
   "metadata": {},
   "source": [
    "Funções utilizadas:\n",
    "\n",
    "* `lreg.fit()` : para treinar o modelo\n",
    "\n",
    "* `lreg.predict()` : predição do valor, segundo um modelo treinado\n",
    "\n",
    "* `lreg.score()` : retorna o coeficiente de determinação (R^2), uma medida de quão bem o modelo captura as observações. "
   ]
  },
  {
   "cell_type": "code",
   "execution_count": null,
   "metadata": {},
   "outputs": [],
   "source": []
  },
  {
   "cell_type": "code",
   "execution_count": null,
   "metadata": {},
   "outputs": [],
   "source": []
  },
  {
   "cell_type": "markdown",
   "metadata": {},
   "source": [
    "## Treinamento e Validação"
   ]
  },
  {
   "cell_type": "markdown",
   "metadata": {},
   "source": [
    "### Objetivo de separar os dados em treinamento e teste\n",
    "\n",
    "<div class=\"span5 alert alert-info\">\n",
    "\n",
    "<p> No exemplo acima: </p>\n",
    "<ul>\n",
    "  <li> Treinamos e testamos na mesma base </li>\n",
    "  <li> É esperado que as predições sobre essa base sejam boas, mas e quanto a novos dados? </li>\n",
    "  <li> Uma solução seria repartir dados, e <b>treinar</b> numa parte dos dados \n",
    "      reservando uma parte para <b>teste</b>  </li>\n",
    "  <li> isso se chama validação </li>  \n",
    "</ul>\n",
    "</div>"
   ]
  },
  {
   "cell_type": "code",
   "execution_count": 53,
   "metadata": {},
   "outputs": [],
   "source": [
    "from sklearn.model_selection import train_test_split"
   ]
  },
  {
   "cell_type": "code",
   "execution_count": 64,
   "metadata": {},
   "outputs": [],
   "source": [
    "# Repartindo o dados em treinamento e validação\n",
    "X_train, X_valid, y_train, y_valid = train_test_split(X, y, \n",
    "                                                      random_state = 999)"
   ]
  },
  {
   "cell_type": "code",
   "execution_count": null,
   "metadata": {},
   "outputs": [],
   "source": []
  },
  {
   "cell_type": "markdown",
   "metadata": {},
   "source": [
    "#### Predição de preços"
   ]
  },
  {
   "cell_type": "markdown",
   "metadata": {},
   "source": [
    "### Referencias"
   ]
  },
  {
   "cell_type": "markdown",
   "metadata": {},
   "source": [
    "* Link para os modulos de machine learning: [SciKit Learn](http://scikit-learn.org/stable/)\n",
    "* Curso Machine Learning Andrew Ng: [Coursera](https://www.coursera.org/learn/machine-learning)\n",
    "* Curso Data Analysis Jose Portilla: [Udemy](https://www.udemy.com/learning-python-for-data-analysis-and-visualization/learn/v4/t/lecture/2338236?start=0)\n",
    "* Curso CS109 Harvard: [Harvard](http://cs109.github.io/2015)"
   ]
  }
 ],
 "metadata": {
  "kernelspec": {
   "display_name": "Python 3",
   "language": "python",
   "name": "python3"
  },
  "language_info": {
   "codemirror_mode": {
    "name": "ipython",
    "version": 3
   },
   "file_extension": ".py",
   "mimetype": "text/x-python",
   "name": "python",
   "nbconvert_exporter": "python",
   "pygments_lexer": "ipython3",
   "version": "3.7.6"
  },
  "toc": {
   "colors": {
    "hover_highlight": "#DAA520",
    "navigate_num": "#000000",
    "navigate_text": "#333333",
    "running_highlight": "#FF0000",
    "selected_highlight": "#FFD700",
    "sidebar_border": "#EEEEEE",
    "wrapper_background": "#FFFFFF"
   },
   "moveMenuLeft": true,
   "nav_menu": {
    "height": "258px",
    "width": "253px"
   },
   "navigate_menu": true,
   "number_sections": false,
   "sideBar": true,
   "threshold": 4,
   "toc_cell": false,
   "toc_section_display": "block",
   "toc_window_display": false,
   "widenNotebook": false
  }
 },
 "nbformat": 4,
 "nbformat_minor": 4
}
